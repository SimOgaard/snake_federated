{
  "cells": [
    {
      "cell_type": "code",
      "source": [
        "# Mounts your drive\n",
        "def MountDrive() -> str:\n",
        "    from google.colab import drive\n",
        "    drive_directory:str = \"/content/drive\"\n",
        "    drive.mount(drive_directory)\n",
        "    return drive_directory\n",
        "\n",
        "MountDrive()\n",
        "\n",
        "!mkdir /content/drive/MyDrive/snake_fed\n",
        "%cd /content/drive/MyDrive/snake_fed"
      ],
      "metadata": {
        "colab": {
          "base_uri": "https://localhost:8080/"
        },
        "id": "HjND7gtfTFU1",
        "outputId": "21f739d6-b446-4633-841c-78630ee85c0a"
      },
      "execution_count": 8,
      "outputs": [
        {
          "output_type": "stream",
          "name": "stdout",
          "text": [
            "Drive already mounted at /content/drive; to attempt to forcibly remount, call drive.mount(\"/content/drive\", force_remount=True).\n",
            "mkdir: cannot create directory ‘/content/drive/MyDrive/snake_fed’: File exists\n",
            "/content/drive/MyDrive/snake_fed\n"
          ]
        }
      ]
    },
    {
      "cell_type": "code",
      "execution_count": 10,
      "metadata": {
        "id": "zmKG0xJb3pT-",
        "colab": {
          "base_uri": "https://localhost:8080/"
        },
        "outputId": "249445ed-30b1-4f7e-e6a6-7172a105c86c"
      },
      "outputs": [
        {
          "output_type": "stream",
          "name": "stdout",
          "text": [
            "fatal: destination path 'snake_federated' already exists and is not an empty directory.\n",
            "/content/drive/My Drive/snake_fed/snake_federated\n"
          ]
        }
      ],
      "source": [
        "!git clone https://github.com/SimOgaard/snake_federated\n",
        "%cd snake_federated"
      ]
    },
    {
      "cell_type": "code",
      "execution_count": null,
      "metadata": {
        "id": "aHTITOb434t6"
      },
      "outputs": [],
      "source": [
        "!python3 snake_training.py"
      ]
    },
    {
      "cell_type": "code",
      "source": [
        "!python3 snake_federated_classic.py"
      ],
      "metadata": {
        "id": "SGKn0-yHYhu2",
        "colab": {
          "base_uri": "https://localhost:8080/"
        },
        "outputId": "0f9640c6-5515-411f-90bf-03761dfc39a4"
      },
      "execution_count": null,
      "outputs": [
        {
          "output_type": "stream",
          "name": "stdout",
          "text": [
            "Episode 0\tAverage Scores 2.070\tRandom act chance 0.988111\n",
            "Episode 100\tAverage Scores 2.040\tRandom act chance 0.976325\n"
          ]
        }
      ]
    },
    {
      "cell_type": "code",
      "execution_count": null,
      "metadata": {
        "id": "KIflue8bCD-N"
      },
      "outputs": [],
      "source": [
        "!python3 snake_federated_transfer_learning.py"
      ]
    },
    {
      "cell_type": "code",
      "execution_count": null,
      "metadata": {
        "colab": {
          "background_save": true
        },
        "id": "59vKy5gngSrL"
      },
      "outputs": [],
      "source": [
        "!python3 snake_testing.py"
      ]
    }
  ],
  "metadata": {
    "accelerator": "GPU",
    "colab": {
      "collapsed_sections": [],
      "name": "SnakeFed.ipynb",
      "provenance": []
    },
    "kernelspec": {
      "display_name": "Python 3",
      "name": "python3"
    },
    "language_info": {
      "name": "python"
    }
  },
  "nbformat": 4,
  "nbformat_minor": 0
}