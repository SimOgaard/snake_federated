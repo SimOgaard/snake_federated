{
  "cells": [
    {
      "cell_type": "code",
      "execution_count": null,
      "metadata": {
        "colab": {
          "base_uri": "https://localhost:8080/"
        },
        "id": "HjND7gtfTFU1",
        "outputId": "21f739d6-b446-4633-841c-78630ee85c0a"
      },
      "outputs": [],
      "source": [
        "# Mounts your drive\n",
        "def MountDrive() -> str:\n",
        "    from google.colab import drive\n",
        "    drive_directory:str = \"/content/drive\"\n",
        "    drive.mount(drive_directory)\n",
        "    return drive_directory\n",
        "\n",
        "MountDrive()\n",
        "\n",
        "!mkdir /content/drive/MyDrive/snake_fed\n",
        "%cd /content/drive/MyDrive/snake_fed"
      ]
    },
    {
      "cell_type": "code",
      "execution_count": null,
      "metadata": {
        "colab": {
          "base_uri": "https://localhost:8080/"
        },
        "id": "zmKG0xJb3pT-",
        "outputId": "249445ed-30b1-4f7e-e6a6-7172a105c86c"
      },
      "outputs": [],
      "source": [
        "!git clone https://github.com/SimOgaard/snake_federated\n",
        "%cd snake_federated"
      ]
    },
    {
      "cell_type": "code",
      "execution_count": null,
      "metadata": {
        "id": "aHTITOb434t6"
      },
      "outputs": [],
      "source": [
        "!python3 snake_training.py"
      ]
    },
    {
      "cell_type": "code",
      "execution_count": null,
      "metadata": {
        "colab": {
          "base_uri": "https://localhost:8080/"
        },
        "id": "SGKn0-yHYhu2",
        "outputId": "0f9640c6-5515-411f-90bf-03761dfc39a4"
      },
      "outputs": [],
      "source": [
        "!python3 snake_federated_classic.py"
      ]
    },
    {
      "cell_type": "code",
      "execution_count": null,
      "metadata": {
        "id": "KIflue8bCD-N"
      },
      "outputs": [],
      "source": [
        "!python3 snake_federated_transfer_learning.py"
      ]
    },
    {
      "cell_type": "code",
      "execution_count": null,
      "metadata": {
        "colab": {
          "background_save": true
        },
        "id": "59vKy5gngSrL"
      },
      "outputs": [],
      "source": [
        "!python3 snake_testing.py"
      ]
    }
  ],
  "metadata": {
    "accelerator": "GPU",
    "colab": {
      "collapsed_sections": [],
      "name": "SnakeFed.ipynb",
      "provenance": []
    },
    "kernelspec": {
      "display_name": "Python 3",
      "name": "python3"
    },
    "language_info": {
      "name": "python"
    }
  },
  "nbformat": 4,
  "nbformat_minor": 0
}
