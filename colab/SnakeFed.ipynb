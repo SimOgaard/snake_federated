{
  "cells": [
    {
      "cell_type": "code",
      "execution_count": null,
      "metadata": {
        "id": "zmKG0xJb3pT-"
      },
      "outputs": [],
      "source": [
        "!git clone https://github.com/SimOgaard/snake_federated\n",
        "%cd /content/snake_federated"
      ]
    },
    {
      "cell_type": "code",
      "execution_count": null,
      "metadata": {
        "id": "aHTITOb434t6"
      },
      "outputs": [],
      "source": [
        "!python3 /content/snake_federated/snake_training.py"
      ]
    },
    {
      "cell_type": "code",
      "execution_count": null,
      "metadata": {
        "id": "KIflue8bCD-N"
      },
      "outputs": [],
      "source": [
        "!python3 /content/snake_federated/snake_federated_transfer_learning.py"
      ]
    },
    {
      "cell_type": "code",
      "execution_count": null,
      "metadata": {
        "colab": {
          "background_save": true
        },
        "id": "59vKy5gngSrL"
      },
      "outputs": [],
      "source": [
        "!python3 /content/snake_federated/snake_testing.py"
      ]
    }
  ],
  "metadata": {
    "accelerator": "GPU",
    "colab": {
      "collapsed_sections": [],
      "name": "SnakeFed.ipynb",
      "provenance": []
    },
    "kernelspec": {
      "display_name": "Python 3",
      "name": "python3"
    },
    "language_info": {
      "name": "python"
    }
  },
  "nbformat": 4,
  "nbformat_minor": 0
}